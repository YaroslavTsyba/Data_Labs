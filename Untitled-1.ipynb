{
 "cells": [
  {
   "cell_type": "code",
   "execution_count": 6,
   "metadata": {},
   "outputs": [
    {
     "name": "stdout",
     "output_type": "stream",
     "text": [
      "Привіт, нпра!\n",
      "Масив випадкових чисел: [95, 42, 72, 5, 19, 41, 41, 79, 88, 7]\n",
      "Середнє значення: 48.9\n"
     ]
    }
   ],
   "source": [
    "import random\n",
    "\n",
    "name = input(\"Введіть своє ім'я: \")\n",
    "\n",
    "\n",
    "print(f\"Привіт, {name}!\")\n",
    "\n",
    "# Створюємо масив із 10 випадкових чисел від 1 до 100\n",
    "random_numbers = [random.randint(1, 100) for _ in range(10)]\n",
    "\n",
    "# Обчислюємо середнє значення\n",
    "average_value = sum(random_numbers) / len(random_numbers)\n",
    "\n",
    "# Виводимо масив та його середнє значення\n",
    "print(\"Масив випадкових чисел:\", random_numbers)\n",
    "print(\"Середнє значення:\", average_value)\n",
    "\n",
    "\n"
   ]
  }
 ],
 "metadata": {
  "kernelspec": {
   "display_name": "Python 3",
   "language": "python",
   "name": "python3"
  },
  "language_info": {
   "codemirror_mode": {
    "name": "ipython",
    "version": 3
   },
   "file_extension": ".py",
   "mimetype": "text/x-python",
   "name": "python",
   "nbconvert_exporter": "python",
   "pygments_lexer": "ipython3",
   "version": "3.12.5"
  }
 },
 "nbformat": 4,
 "nbformat_minor": 2
}
